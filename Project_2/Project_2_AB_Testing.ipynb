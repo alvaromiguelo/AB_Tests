{
 "cells": [
  {
   "cell_type": "code",
   "execution_count": 1,
   "id": "807f6947-ab72-41e9-af96-199baaf078b1",
   "metadata": {},
   "outputs": [],
   "source": [
    "import pandas as pd\n",
    "import numpy as np\n",
    "import matplotlib.pyplot as plt\n",
    "import seaborn as sns"
   ]
  },
  {
   "cell_type": "code",
   "execution_count": 2,
   "id": "0c4578b2-f5a4-46fa-b4cb-43eb6c96cb75",
   "metadata": {},
   "outputs": [
    {
     "data": {
      "text/html": [
       "<div>\n",
       "<style scoped>\n",
       "    .dataframe tbody tr th:only-of-type {\n",
       "        vertical-align: middle;\n",
       "    }\n",
       "\n",
       "    .dataframe tbody tr th {\n",
       "        vertical-align: top;\n",
       "    }\n",
       "\n",
       "    .dataframe thead th {\n",
       "        text-align: right;\n",
       "    }\n",
       "</style>\n",
       "<table border=\"1\" class=\"dataframe\">\n",
       "  <thead>\n",
       "    <tr style=\"text-align: right;\">\n",
       "      <th></th>\n",
       "      <th>USER_ID</th>\n",
       "      <th>VARIANT_NAME</th>\n",
       "      <th>REVENUE</th>\n",
       "    </tr>\n",
       "  </thead>\n",
       "  <tbody>\n",
       "    <tr>\n",
       "      <th>0</th>\n",
       "      <td>737</td>\n",
       "      <td>variant</td>\n",
       "      <td>0.0</td>\n",
       "    </tr>\n",
       "    <tr>\n",
       "      <th>1</th>\n",
       "      <td>2423</td>\n",
       "      <td>control</td>\n",
       "      <td>0.0</td>\n",
       "    </tr>\n",
       "    <tr>\n",
       "      <th>2</th>\n",
       "      <td>9411</td>\n",
       "      <td>control</td>\n",
       "      <td>0.0</td>\n",
       "    </tr>\n",
       "    <tr>\n",
       "      <th>3</th>\n",
       "      <td>7311</td>\n",
       "      <td>control</td>\n",
       "      <td>0.0</td>\n",
       "    </tr>\n",
       "    <tr>\n",
       "      <th>4</th>\n",
       "      <td>6174</td>\n",
       "      <td>variant</td>\n",
       "      <td>0.0</td>\n",
       "    </tr>\n",
       "  </tbody>\n",
       "</table>\n",
       "</div>"
      ],
      "text/plain": [
       "   USER_ID VARIANT_NAME  REVENUE\n",
       "0      737      variant      0.0\n",
       "1     2423      control      0.0\n",
       "2     9411      control      0.0\n",
       "3     7311      control      0.0\n",
       "4     6174      variant      0.0"
      ]
     },
     "execution_count": 2,
     "metadata": {},
     "output_type": "execute_result"
    }
   ],
   "source": [
    "df = pd.read_csv('AB_Test_Results.csv')\n",
    "df.head()"
   ]
  },
  {
   "cell_type": "code",
   "execution_count": 3,
   "id": "8b2a933a-d00a-417a-8435-f93efb4ce8c9",
   "metadata": {},
   "outputs": [
    {
     "data": {
      "text/plain": [
       "(10000, 3)"
      ]
     },
     "execution_count": 3,
     "metadata": {},
     "output_type": "execute_result"
    }
   ],
   "source": [
    "df.shape"
   ]
  },
  {
   "cell_type": "markdown",
   "id": "d205cd82-2f83-4c9e-907c-1c7d4713c92d",
   "metadata": {
    "tags": []
   },
   "source": [
    "## Distribution of variant Websites"
   ]
  },
  {
   "cell_type": "code",
   "execution_count": 4,
   "id": "9edfe62f-2ff1-4e89-aaff-76e505358f25",
   "metadata": {},
   "outputs": [
    {
     "data": {
      "text/plain": [
       "VARIANT_NAME\n",
       "control    3931\n",
       "variant    3934\n",
       "Name: USER_ID, dtype: int64"
      ]
     },
     "execution_count": 4,
     "metadata": {},
     "output_type": "execute_result"
    }
   ],
   "source": [
    "df.groupby('VARIANT_NAME')['USER_ID'].nunique()"
   ]
  },
  {
   "cell_type": "markdown",
   "id": "4944dd8b-ecf8-43f5-951c-a0e478eadc99",
   "metadata": {},
   "source": [
    "We have a fairly distribution of different User_ID for different Variant."
   ]
  },
  {
   "cell_type": "code",
   "execution_count": 5,
   "id": "86c11ca4-940f-4a56-b944-f8cc2c957dd8",
   "metadata": {
    "collapsed": true,
    "jupyter": {
     "outputs_hidden": true
    },
    "tags": []
   },
   "outputs": [
    {
     "data": {
      "text/plain": [
       "5652    6\n",
       "8359    6\n",
       "668     6\n",
       "9101    6\n",
       "4879    6\n",
       "       ..\n",
       "5455    1\n",
       "1399    1\n",
       "6967    1\n",
       "3156    1\n",
       "9468    1\n",
       "Name: USER_ID, Length: 6324, dtype: int64"
      ]
     },
     "execution_count": 5,
     "metadata": {},
     "output_type": "execute_result"
    }
   ],
   "source": [
    "df.USER_ID.value_counts()"
   ]
  },
  {
   "cell_type": "markdown",
   "id": "e1ca0ee6-bf05-4b12-b783-61c2572fe674",
   "metadata": {},
   "source": [
    "We have same clients that went into the website several times while the test was being run.\n",
    "\n",
    "This gives us a an advantage we can verify if the revenue for the clients that went to the website changed regarding the version saw."
   ]
  },
  {
   "cell_type": "markdown",
   "id": "5b076170-1f23-4bc1-af67-e4299934f021",
   "metadata": {},
   "source": [
    "### Clients with several views"
   ]
  },
  {
   "cell_type": "code",
   "execution_count": 32,
   "id": "2e129410-8ec7-4de6-9efc-6eac9cb0b881",
   "metadata": {
    "tags": []
   },
   "outputs": [
    {
     "data": {
      "text/html": [
       "<div>\n",
       "<style scoped>\n",
       "    .dataframe tbody tr th:only-of-type {\n",
       "        vertical-align: middle;\n",
       "    }\n",
       "\n",
       "    .dataframe tbody tr th {\n",
       "        vertical-align: top;\n",
       "    }\n",
       "\n",
       "    .dataframe thead th {\n",
       "        text-align: right;\n",
       "    }\n",
       "</style>\n",
       "<table border=\"1\" class=\"dataframe\">\n",
       "  <thead>\n",
       "    <tr style=\"text-align: right;\">\n",
       "      <th></th>\n",
       "      <th>USER_ID</th>\n",
       "      <th>VARIANT_NAME</th>\n",
       "      <th>REVENUE</th>\n",
       "    </tr>\n",
       "  </thead>\n",
       "  <tbody>\n",
       "    <tr>\n",
       "      <th>0</th>\n",
       "      <td>737</td>\n",
       "      <td>variant</td>\n",
       "      <td>0.0</td>\n",
       "    </tr>\n",
       "    <tr>\n",
       "      <th>1</th>\n",
       "      <td>2423</td>\n",
       "      <td>control</td>\n",
       "      <td>0.0</td>\n",
       "    </tr>\n",
       "    <tr>\n",
       "      <th>2</th>\n",
       "      <td>9411</td>\n",
       "      <td>control</td>\n",
       "      <td>0.0</td>\n",
       "    </tr>\n",
       "    <tr>\n",
       "      <th>3</th>\n",
       "      <td>7311</td>\n",
       "      <td>control</td>\n",
       "      <td>0.0</td>\n",
       "    </tr>\n",
       "    <tr>\n",
       "      <th>6</th>\n",
       "      <td>2849</td>\n",
       "      <td>control</td>\n",
       "      <td>0.0</td>\n",
       "    </tr>\n",
       "  </tbody>\n",
       "</table>\n",
       "</div>"
      ],
      "text/plain": [
       "   USER_ID VARIANT_NAME  REVENUE\n",
       "0      737      variant      0.0\n",
       "1     2423      control      0.0\n",
       "2     9411      control      0.0\n",
       "3     7311      control      0.0\n",
       "6     2849      control      0.0"
      ]
     },
     "execution_count": 32,
     "metadata": {},
     "output_type": "execute_result"
    }
   ],
   "source": [
    "double_check = pd.DataFrame(df.groupby(['USER_ID'])['VARIANT_NAME'].count())\n",
    "subset = double_check[double_check['VARIANT_NAME'] > 1]\n",
    "subset_index = list(subset.index)\n",
    "subset_df = df[df.USER_ID.isin(subset_index)]\n",
    "subset_df.head()"
   ]
  },
  {
   "cell_type": "code",
   "execution_count": 31,
   "id": "947a43ad-8b75-4b52-b792-dee20936f8de",
   "metadata": {},
   "outputs": [
    {
     "data": {
      "text/plain": [
       "variant    3186\n",
       "control    3150\n",
       "Name: VARIANT_NAME, dtype: int64"
      ]
     },
     "execution_count": 31,
     "metadata": {},
     "output_type": "execute_result"
    }
   ],
   "source": [
    "subset_df['VARIANT_NAME'].value_counts()"
   ]
  },
  {
   "cell_type": "markdown",
   "id": "2bea5656-4c4d-4523-bae7-058451f28254",
   "metadata": {},
   "source": [
    "Even for the clients that had visit several times the website the distribution is very similar."
   ]
  },
  {
   "cell_type": "code",
   "execution_count": 33,
   "id": "82d81d31-7999-4334-920a-e591bb96a9df",
   "metadata": {},
   "outputs": [
    {
     "data": {
      "text/plain": [
       "VARIANT_NAME\n",
       "control    307.94\n",
       "variant    229.66\n",
       "Name: REVENUE, dtype: float64"
      ]
     },
     "execution_count": 33,
     "metadata": {},
     "output_type": "execute_result"
    }
   ],
   "source": [
    "subset_df.groupby('VARIANT_NAME')['REVENUE'].sum()"
   ]
  },
  {
   "cell_type": "code",
   "execution_count": 46,
   "id": "399e1206-df38-4c92-9fd9-0cfeaac3c14d",
   "metadata": {},
   "outputs": [
    {
     "data": {
      "image/png": "[encoded data removed]",
      "text/plain": [
       "<Figure size 432x288 with 1 Axes>"
      ]
     },
     "metadata": {
      "needs_background": "light"
     },
     "output_type": "display_data"
    }
   ],
   "source": [
    "to_plot = pd.DataFrame(subset_df.groupby('VARIANT_NAME')['REVENUE'].sum())\n",
    "sns.barplot(data = to_plot, x = to_plot.index, y = 'REVENUE')\n",
    "plt.title('Revenue per Version')\n",
    "plt.show()"
   ]
  },
  {
   "cell_type": "markdown",
   "id": "35e12c7c-90a2-47b2-b044-d568bae8f268",
   "metadata": {},
   "source": [
    "We already have an idea that for people that tested more than one time the website the revenue was bigger for control version.\n",
    "\n",
    "Is this random or not?"
   ]
  },
  {
   "cell_type": "code",
   "execution_count": 52,
   "id": "40ebaded-afef-49a1-a59d-1d7064d6e969",
   "metadata": {},
   "outputs": [
    {
     "data": {
      "text/plain": [
       "VARIANT_NAME\n",
       "control    50\n",
       "variant    44\n",
       "Name: REVENUE, dtype: int64"
      ]
     },
     "execution_count": 52,
     "metadata": {},
     "output_type": "execute_result"
    }
   ],
   "source": [
    "count_revenue = subset_df[subset_df['REVENUE'] > 0]\n",
    "count_revenue.groupby('VARIANT_NAME')['REVENUE'].count()"
   ]
  },
  {
   "cell_type": "markdown",
   "id": "52881190-2b77-4c34-9546-46a07f9de93c",
   "metadata": {},
   "source": [
    "We had 50 repeated visitants in the dataset that actually invest more times in control than variant too."
   ]
  },
  {
   "cell_type": "markdown",
   "id": "53f55445-7605-4f1e-9138-0433b767d622",
   "metadata": {
    "tags": []
   },
   "source": [
    "### Evaluating all dataset"
   ]
  },
  {
   "cell_type": "code",
   "execution_count": 53,
   "id": "c51edfc5-f6ef-42fc-b19a-cd245c1b1ae1",
   "metadata": {
    "collapsed": true,
    "jupyter": {
     "outputs_hidden": true
    },
    "tags": []
   },
   "outputs": [
    {
     "data": {
      "text/html": [
       "<div>\n",
       "<style scoped>\n",
       "    .dataframe tbody tr th:only-of-type {\n",
       "        vertical-align: middle;\n",
       "    }\n",
       "\n",
       "    .dataframe tbody tr th {\n",
       "        vertical-align: top;\n",
       "    }\n",
       "\n",
       "    .dataframe thead th {\n",
       "        text-align: right;\n",
       "    }\n",
       "</style>\n",
       "<table border=\"1\" class=\"dataframe\">\n",
       "  <thead>\n",
       "    <tr style=\"text-align: right;\">\n",
       "      <th></th>\n",
       "      <th>USER_ID</th>\n",
       "      <th>VARIANT_NAME</th>\n",
       "      <th>REVENUE</th>\n",
       "    </tr>\n",
       "  </thead>\n",
       "  <tbody>\n",
       "    <tr>\n",
       "      <th>0</th>\n",
       "      <td>737</td>\n",
       "      <td>variant</td>\n",
       "      <td>0.0</td>\n",
       "    </tr>\n",
       "    <tr>\n",
       "      <th>1</th>\n",
       "      <td>2423</td>\n",
       "      <td>control</td>\n",
       "      <td>0.0</td>\n",
       "    </tr>\n",
       "    <tr>\n",
       "      <th>2</th>\n",
       "      <td>9411</td>\n",
       "      <td>control</td>\n",
       "      <td>0.0</td>\n",
       "    </tr>\n",
       "    <tr>\n",
       "      <th>3</th>\n",
       "      <td>7311</td>\n",
       "      <td>control</td>\n",
       "      <td>0.0</td>\n",
       "    </tr>\n",
       "    <tr>\n",
       "      <th>4</th>\n",
       "      <td>6174</td>\n",
       "      <td>variant</td>\n",
       "      <td>0.0</td>\n",
       "    </tr>\n",
       "  </tbody>\n",
       "</table>\n",
       "</div>"
      ],
      "text/plain": [
       "   USER_ID VARIANT_NAME  REVENUE\n",
       "0      737      variant      0.0\n",
       "1     2423      control      0.0\n",
       "2     9411      control      0.0\n",
       "3     7311      control      0.0\n",
       "4     6174      variant      0.0"
      ]
     },
     "execution_count": 53,
     "metadata": {},
     "output_type": "execute_result"
    }
   ],
   "source": [
    "df.head()"
   ]
  },
  {
   "cell_type": "code",
   "execution_count": 103,
   "id": "b889c60a-ebfd-4e13-a2c7-5f94875e00d2",
   "metadata": {
    "tags": []
   },
   "outputs": [
    {
     "name": "stdout",
     "output_type": "stream",
     "text": [
      "The conversion ratio into clients was 2.37%\n"
     ]
    }
   ],
   "source": [
    "clients = pd.DataFrame(df.groupby('USER_ID')['REVENUE'].sum())\n",
    "clients['converted'] = [ True if value > 0 else False for value in clients.REVENUE]\n",
    "converted = clients.drop('REVENUE', axis = 1)[clients['converted'] == True].count()\n",
    "total = clients.shape[0]\n",
    "print(f'The conversion ratio into clients was {round(converted[\"converted\"] / total * 100,2)}%')"
   ]
  },
  {
   "cell_type": "markdown",
   "id": "852ab25e-2a66-46ff-9401-a2b9641c222a",
   "metadata": {},
   "source": [
    "We can conclude that this website has not a decent conversion. 2.3% is not good. Independent of our conclusions regarding the different versions, company should invest more time and money in A/B Testings in a near future."
   ]
  },
  {
   "cell_type": "markdown",
   "id": "3e6ab555-c5e0-465d-819d-0c1b3ba7d37a",
   "metadata": {},
   "source": [
    "## Lift"
   ]
  },
  {
   "cell_type": "code",
   "execution_count": 104,
   "id": "f26561bd-d595-4129-bb91-f06d4f9f9d9f",
   "metadata": {},
   "outputs": [
    {
     "data": {
      "text/html": [
       "<div>\n",
       "<style scoped>\n",
       "    .dataframe tbody tr th:only-of-type {\n",
       "        vertical-align: middle;\n",
       "    }\n",
       "\n",
       "    .dataframe tbody tr th {\n",
       "        vertical-align: top;\n",
       "    }\n",
       "\n",
       "    .dataframe thead th {\n",
       "        text-align: right;\n",
       "    }\n",
       "</style>\n",
       "<table border=\"1\" class=\"dataframe\">\n",
       "  <thead>\n",
       "    <tr style=\"text-align: right;\">\n",
       "      <th></th>\n",
       "      <th>USER_ID</th>\n",
       "      <th>VARIANT_NAME</th>\n",
       "      <th>REVENUE</th>\n",
       "    </tr>\n",
       "  </thead>\n",
       "  <tbody>\n",
       "    <tr>\n",
       "      <th>0</th>\n",
       "      <td>737</td>\n",
       "      <td>variant</td>\n",
       "      <td>0.0</td>\n",
       "    </tr>\n",
       "    <tr>\n",
       "      <th>1</th>\n",
       "      <td>2423</td>\n",
       "      <td>control</td>\n",
       "      <td>0.0</td>\n",
       "    </tr>\n",
       "    <tr>\n",
       "      <th>2</th>\n",
       "      <td>9411</td>\n",
       "      <td>control</td>\n",
       "      <td>0.0</td>\n",
       "    </tr>\n",
       "    <tr>\n",
       "      <th>3</th>\n",
       "      <td>7311</td>\n",
       "      <td>control</td>\n",
       "      <td>0.0</td>\n",
       "    </tr>\n",
       "    <tr>\n",
       "      <th>4</th>\n",
       "      <td>6174</td>\n",
       "      <td>variant</td>\n",
       "      <td>0.0</td>\n",
       "    </tr>\n",
       "  </tbody>\n",
       "</table>\n",
       "</div>"
      ],
      "text/plain": [
       "   USER_ID VARIANT_NAME  REVENUE\n",
       "0      737      variant      0.0\n",
       "1     2423      control      0.0\n",
       "2     9411      control      0.0\n",
       "3     7311      control      0.0\n",
       "4     6174      variant      0.0"
      ]
     },
     "execution_count": 104,
     "metadata": {},
     "output_type": "execute_result"
    }
   ],
   "source": [
    "df.head()"
   ]
  },
  {
   "cell_type": "code",
   "execution_count": 115,
   "id": "078cb5f2-66ff-4d74-9633-652187d0d4d6",
   "metadata": {},
   "outputs": [],
   "source": [
    "#Subset the ones that converted Revenue != 0\n",
    "converted = df[df.REVENUE > 0]"
   ]
  },
  {
   "cell_type": "code",
   "execution_count": 116,
   "id": "5f8b866b-f1af-4653-8d66-1959d0f10a72",
   "metadata": {},
   "outputs": [
    {
     "data": {
      "text/html": [
       "<div>\n",
       "<style scoped>\n",
       "    .dataframe tbody tr th:only-of-type {\n",
       "        vertical-align: middle;\n",
       "    }\n",
       "\n",
       "    .dataframe tbody tr th {\n",
       "        vertical-align: top;\n",
       "    }\n",
       "\n",
       "    .dataframe thead th {\n",
       "        text-align: right;\n",
       "    }\n",
       "</style>\n",
       "<table border=\"1\" class=\"dataframe\">\n",
       "  <thead>\n",
       "    <tr style=\"text-align: right;\">\n",
       "      <th></th>\n",
       "      <th>USER_ID</th>\n",
       "      <th>control</th>\n",
       "      <th>variant</th>\n",
       "    </tr>\n",
       "  </thead>\n",
       "  <tbody>\n",
       "    <tr>\n",
       "      <th>13</th>\n",
       "      <td>2529</td>\n",
       "      <td>False</td>\n",
       "      <td>True</td>\n",
       "    </tr>\n",
       "    <tr>\n",
       "      <th>49</th>\n",
       "      <td>6429</td>\n",
       "      <td>True</td>\n",
       "      <td>False</td>\n",
       "    </tr>\n",
       "    <tr>\n",
       "      <th>139</th>\n",
       "      <td>3331</td>\n",
       "      <td>False</td>\n",
       "      <td>True</td>\n",
       "    </tr>\n",
       "    <tr>\n",
       "      <th>149</th>\n",
       "      <td>8110</td>\n",
       "      <td>False</td>\n",
       "      <td>True</td>\n",
       "    </tr>\n",
       "    <tr>\n",
       "      <th>152</th>\n",
       "      <td>8607</td>\n",
       "      <td>True</td>\n",
       "      <td>False</td>\n",
       "    </tr>\n",
       "  </tbody>\n",
       "</table>\n",
       "</div>"
      ],
      "text/plain": [
       "     USER_ID  control  variant\n",
       "13      2529    False     True\n",
       "49      6429     True    False\n",
       "139     3331    False     True\n",
       "149     8110    False     True\n",
       "152     8607     True    False"
      ]
     },
     "execution_count": 116,
     "metadata": {},
     "output_type": "execute_result"
    }
   ],
   "source": [
    "conv_variant = converted.join(converted.VARIANT_NAME.str.get_dummies().astype(bool)).drop(['VARIANT_NAME','REVENUE'], axis = 1)\n",
    "conv_variant.head()"
   ]
  },
  {
   "cell_type": "code",
   "execution_count": 117,
   "id": "94f35ad3-f395-4549-b60a-823714417296",
   "metadata": {},
   "outputs": [],
   "source": [
    "def lift(control, variant):\n",
    "    '''This function calculates the increase or decrease of the variant version compared to the control version\n",
    "    regarding the conversion rate'''\n",
    "    \n",
    "    control_mean = np.mean(control)\n",
    "    \n",
    "    variant_mean = np.mean(variant)\n",
    "    \n",
    "    return np.round((variant_mean-control_mean)/control_mean * 100,2)"
   ]
  },
  {
   "cell_type": "code",
   "execution_count": 118,
   "id": "98b7eba4-88e5-407c-924a-fe2477a56340",
   "metadata": {},
   "outputs": [
    {
     "name": "stdout",
     "output_type": "stream",
     "text": [
      "-10.0 %\n"
     ]
    }
   ],
   "source": [
    "control = conv_variant['control']\n",
    "variant = conv_variant['variant']\n",
    "print(f'{lift(control, variant)} %')"
   ]
  },
  {
   "cell_type": "markdown",
   "id": "2b0ec356-34e9-4e5f-afb5-cdfba81be20b",
   "metadata": {},
   "source": [
    "We achieve a better conversion with the control version than with the variant.\n",
    "\n",
    "But is this statistically significant?\n",
    "\n",
    "Let's see!"
   ]
  },
  {
   "cell_type": "code",
   "execution_count": 120,
   "id": "ab405f1a-290b-4e59-b5f4-b46826c418c5",
   "metadata": {},
   "outputs": [
    {
     "data": {
      "text/plain": [
       "Ttest_indResult(statistic=0.9159087776022724, pvalue=0.36044551273780245)"
      ]
     },
     "execution_count": 120,
     "metadata": {},
     "output_type": "execute_result"
    }
   ],
   "source": [
    "from scipy.stats import ttest_ind\n",
    "ttest_ind(control, variant)"
   ]
  },
  {
   "cell_type": "markdown",
   "id": "2ae0b299-68e1-4471-bb04-5fb603b9d520",
   "metadata": {},
   "source": [
    "With the TTest we in fact can't reject H0, so the results are not statistically significant. Due by chance.\n",
    "\n",
    "So we are not capable of getting a sustainable hypothesis for this both hypothesys and there is no significant evidence of a difference between the mean/median of both populations."
   ]
  }
 ],
 "metadata": {
  "kernelspec": {
   "display_name": "Python 3 (ipykernel)",
   "language": "python",
   "name": "python3"
  },
  "language_info": {
   "codemirror_mode": {
    "name": "ipython",
    "version": 3
   },
   "file_extension": ".py",
   "mimetype": "text/x-python",
   "name": "python",
   "nbconvert_exporter": "python",
   "pygments_lexer": "ipython3",
   "version": "3.8.12"
  }
 },
 "nbformat": 4,
 "nbformat_minor": 5
}
