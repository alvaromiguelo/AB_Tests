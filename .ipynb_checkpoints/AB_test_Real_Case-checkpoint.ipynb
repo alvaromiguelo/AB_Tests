{
 "cells": [
  {
   "cell_type": "code",
   "execution_count": 1,
   "id": "8ec5f0fe-0cc3-4597-8dcd-b408ea986c9b",
   "metadata": {},
   "outputs": [],
   "source": [
    "import numpy as np\n",
    "import pandas as pd\n",
    "import matplotlib.pyplot as plt\n",
    "import seaborn as sns\n",
    "from scipy.stats import norm\n",
    "from scipy.stats import t"
   ]
  },
  {
   "cell_type": "code",
   "execution_count": null,
   "id": "fa30e335-01e0-4667-8d63-ff4174447561",
   "metadata": {},
   "outputs": [],
   "source": [
    "ssss"
   ]
  },
  {
   "cell_type": "code",
   "execution_count": 18,
   "id": "aa192257-6080-4b8e-8fda-d58a3a81d7e0",
   "metadata": {
    "collapsed": true,
    "jupyter": {
     "outputs_hidden": true
    },
    "tags": []
   },
   "outputs": [
    {
     "data": {
      "text/html": [
       "<div>\n",
       "<style scoped>\n",
       "    .dataframe tbody tr th:only-of-type {\n",
       "        vertical-align: middle;\n",
       "    }\n",
       "\n",
       "    .dataframe tbody tr th {\n",
       "        vertical-align: top;\n",
       "    }\n",
       "\n",
       "    .dataframe thead th {\n",
       "        text-align: right;\n",
       "    }\n",
       "</style>\n",
       "<table border=\"1\" class=\"dataframe\">\n",
       "  <thead>\n",
       "    <tr style=\"text-align: right;\">\n",
       "      <th></th>\n",
       "      <th>treatment</th>\n",
       "      <th>new_images</th>\n",
       "      <th>converted</th>\n",
       "    </tr>\n",
       "  </thead>\n",
       "  <tbody>\n",
       "    <tr>\n",
       "      <th>0</th>\n",
       "      <td>yes</td>\n",
       "      <td>yes</td>\n",
       "      <td>0</td>\n",
       "    </tr>\n",
       "    <tr>\n",
       "      <th>1</th>\n",
       "      <td>yes</td>\n",
       "      <td>yes</td>\n",
       "      <td>0</td>\n",
       "    </tr>\n",
       "    <tr>\n",
       "      <th>2</th>\n",
       "      <td>yes</td>\n",
       "      <td>yes</td>\n",
       "      <td>0</td>\n",
       "    </tr>\n",
       "    <tr>\n",
       "      <th>3</th>\n",
       "      <td>yes</td>\n",
       "      <td>no</td>\n",
       "      <td>0</td>\n",
       "    </tr>\n",
       "    <tr>\n",
       "      <th>4</th>\n",
       "      <td>no</td>\n",
       "      <td>yes</td>\n",
       "      <td>0</td>\n",
       "    </tr>\n",
       "  </tbody>\n",
       "</table>\n",
       "</div>"
      ],
      "text/plain": [
       "  treatment new_images  converted\n",
       "0       yes        yes          0\n",
       "1       yes        yes          0\n",
       "2       yes        yes          0\n",
       "3       yes         no          0\n",
       "4        no        yes          0"
      ]
     },
     "execution_count": 18,
     "metadata": {},
     "output_type": "execute_result"
    }
   ],
   "source": [
    "website = pd.read_csv('redesign (1).csv')\n",
    "website.head()"
   ]
  },
  {
   "cell_type": "markdown",
   "id": "03d024d8-913b-4c44-8431-73eb0e53b9d8",
   "metadata": {},
   "source": [
    "## Analyze the conversion rates for each of the four groups: the new/old design of the landing page and the new/old pictures.\n",
    "\n",
    "First we will subset the original dataframe in smaller ones where,\n",
    "\n",
    "Control - Treatment - No & New_Images - No \n",
    "\n",
    "Hyp_1 - Treatment - No & New_Images - Yes\n",
    "\n",
    "Hyp_2 - Treatment - Yes & New_Images - No\n",
    "\n",
    "Hyp_3 - Treatment - Yes & New_Images - Yes"
   ]
  },
  {
   "cell_type": "code",
   "execution_count": 25,
   "id": "f25f2bc8-9898-4b24-b1c9-2aa47b9ca585",
   "metadata": {},
   "outputs": [],
   "source": [
    "Control = website[(website['treatment'] == 'no') & (website['new_images'] == 'no')]\n",
    "Hyp_1 = website[(website['treatment'] == 'no') & (website['new_images'] == 'yes')]\n",
    "Hyp_2 = website[(website['treatment'] == 'yes') & (website['new_images'] == 'no')]\n",
    "Hyp_3 = website[(website['treatment'] == 'yes') & (website['new_images'] == 'yes')]"
   ]
  },
  {
   "cell_type": "markdown",
   "id": "47f60397-1363-4d66-b34f-ebea32b95d87",
   "metadata": {},
   "source": [
    "Now, we should calculate the rate of conversion for every single option."
   ]
  },
  {
   "cell_type": "code",
   "execution_count": 76,
   "id": "a341054b-2274-4f8b-8770-c321899ed3ab",
   "metadata": {
    "tags": []
   },
   "outputs": [],
   "source": [
    "Rate_Control = np.round(np.sum(Control['converted']) / Control.shape[0] * 100,2)\n",
    "Rate_Hyp_1 = np.round(np.sum(Hyp_1['converted']) / Hyp_1.shape[0] * 100,2)\n",
    "Rate_Hyp_2 = np.round(np.sum(Hyp_2['converted']) / Hyp_2.shape[0] * 100,2)\n",
    "Rate_Hyp_3 = np.round(np.sum(Hyp_3['converted']) / Hyp_3.shape[0] * 100,2)"
   ]
  },
  {
   "cell_type": "code",
   "execution_count": 96,
   "id": "37e206bd-39ad-4a6e-aa29-ff059e5cdd0b",
   "metadata": {},
   "outputs": [
    {
     "data": {
      "text/plain": [
       "(10121, 3)"
      ]
     },
     "execution_count": 96,
     "metadata": {},
     "output_type": "execute_result"
    }
   ],
   "source": [
    "Hyp_1.shape"
   ]
  },
  {
   "cell_type": "code",
   "execution_count": 87,
   "id": "4ff5353e-8613-41fa-9172-4e684ad0fc27",
   "metadata": {
    "collapsed": true,
    "jupyter": {
     "outputs_hidden": true
    },
    "tags": []
   },
   "outputs": [
    {
     "data": {
      "text/html": [
       "<div>\n",
       "<style scoped>\n",
       "    .dataframe tbody tr th:only-of-type {\n",
       "        vertical-align: middle;\n",
       "    }\n",
       "\n",
       "    .dataframe tbody tr th {\n",
       "        vertical-align: top;\n",
       "    }\n",
       "\n",
       "    .dataframe thead th {\n",
       "        text-align: right;\n",
       "    }\n",
       "</style>\n",
       "<table border=\"1\" class=\"dataframe\">\n",
       "  <thead>\n",
       "    <tr style=\"text-align: right;\">\n",
       "      <th></th>\n",
       "      <th>Case</th>\n",
       "      <th>Rate</th>\n",
       "    </tr>\n",
       "  </thead>\n",
       "  <tbody>\n",
       "    <tr>\n",
       "      <th>0</th>\n",
       "      <td>Control</td>\n",
       "      <td>10.71</td>\n",
       "    </tr>\n",
       "    <tr>\n",
       "      <th>1</th>\n",
       "      <td>Hyp_1</td>\n",
       "      <td>11.25</td>\n",
       "    </tr>\n",
       "    <tr>\n",
       "      <th>2</th>\n",
       "      <td>Hyp_2</td>\n",
       "      <td>12.00</td>\n",
       "    </tr>\n",
       "    <tr>\n",
       "      <th>3</th>\n",
       "      <td>Hyp_3</td>\n",
       "      <td>11.37</td>\n",
       "    </tr>\n",
       "  </tbody>\n",
       "</table>\n",
       "</div>"
      ],
      "text/plain": [
       "      Case   Rate\n",
       "0  Control  10.71\n",
       "1    Hyp_1  11.25\n",
       "2    Hyp_2  12.00\n",
       "3    Hyp_3  11.37"
      ]
     },
     "execution_count": 87,
     "metadata": {},
     "output_type": "execute_result"
    }
   ],
   "source": [
    "Rate = pd.DataFrame({'Case':['Control','Hyp_1','Hyp_2','Hyp_3'], 'Rate':[Rate_Control,Rate_Hyp_1, Rate_Hyp_2, Rate_Hyp_3]})\n",
    "Rate"
   ]
  },
  {
   "cell_type": "markdown",
   "id": "30865aa5-5207-47aa-867d-41ef8f33379d",
   "metadata": {},
   "source": [
    "In Conclusion, Hyp_2 had the best rate of conversion from all the hypothesis"
   ]
  },
  {
   "cell_type": "code",
   "execution_count": 91,
   "id": "6cbfdef0-babe-4e5b-b04a-edc196c444d8",
   "metadata": {
    "collapsed": true,
    "jupyter": {
     "outputs_hidden": true
    },
    "tags": []
   },
   "outputs": [
    {
     "data": {
      "text/plain": [
       "(10.0, 12.25)"
      ]
     },
     "execution_count": 91,
     "metadata": {},
     "output_type": "execute_result"
    },
    {
     "data": {
      "image/png": "[encoded data removed]",
      "text/plain": [
       "<Figure size 432x288 with 1 Axes>"
      ]
     },
     "metadata": {
      "needs_background": "light"
     },
     "output_type": "display_data"
    }
   ],
   "source": [
    "sns.barplot(x = 'Case', y = 'Rate', data = Rate)\n",
    "plt.ylim(10,12.25)"
   ]
  },
  {
   "cell_type": "markdown",
   "id": "5176d19a-bb1f-4348-9c4d-3f500800511e",
   "metadata": {},
   "source": [
    "## Can the increases observed be explained by randomness?"
   ]
  },
  {
   "cell_type": "markdown",
   "id": "67ff9dbc-dbe9-49f8-b311-687f55046111",
   "metadata": {},
   "source": [
    "A/B Testing\n",
    "\n",
    "We will test version Control with every single Hyp and check if this results were random or not.\n",
    "\n",
    "Control vs Hyp_1\n",
    "\n",
    "Control vs Hyp_2\n",
    "\n",
    "Control vs Hyp_3"
   ]
  },
  {
   "cell_type": "markdown",
   "id": "71761100-ebfd-4405-8571-9812169dc9ad",
   "metadata": {},
   "source": [
    "## Control vs Hyp_1"
   ]
  },
  {
   "cell_type": "markdown",
   "id": "ac77681f-624b-4029-b2ba-527dea94e755",
   "metadata": {},
   "source": [
    "H0: uControl = uHyp_1\n",
    "\n",
    "H1: uControl < uHyp_1"
   ]
  },
  {
   "cell_type": "markdown",
   "id": "33d5b16c-0e4f-41ff-a982-191aa7cae971",
   "metadata": {},
   "source": [
    "We Will apply T - Student Statistical tests for two different samples"
   ]
  },
  {
   "attachments": {
    "dab44cbd-2852-40ec-8dd4-6cd953803661.png": {
     "image/png": "[encoded data removed]"
    }
   },
   "cell_type": "markdown",
   "id": "b0fbac3a-a44c-47a4-99ff-1089b0804ca6",
   "metadata": {},
   "source": [
    "First we will calculate the mean and std for Control and Hyp_1\n",
    "\n",
    "![image.png](attachment:dab44cbd-2852-40ec-8dd4-6cd953803661.png)"
   ]
  },
  {
   "cell_type": "code",
   "execution_count": 159,
   "id": "3f5fc643-5a2d-473f-83f7-c866a4b0c8c1",
   "metadata": {
    "tags": []
   },
   "outputs": [],
   "source": [
    "u_Control = (Control['converted'] == 1).mean()\n",
    "uHyp1 = (Hyp_1['converted'] == 1).mean()\n",
    "s_Control = (Control['converted'] == 1).std()\n",
    "s_Hyp1 = (Hyp_1['converted'] == 1).std()\n",
    "n = len(Control)"
   ]
  },
  {
   "cell_type": "markdown",
   "id": "6a4201be-91d3-476a-a51e-3e8518e658a2",
   "metadata": {},
   "source": [
    "To calculate the standard deviation we will apply bootstraping and after the sampling calculate the std error"
   ]
  },
  {
   "cell_type": "code",
   "execution_count": 160,
   "id": "66a7fd29-1e71-4cfb-a8d8-98477686d13d",
   "metadata": {},
   "outputs": [],
   "source": [
    "numerator = u_Control - uHyp1\n",
    "denominator = np.sqrt((s_Control**2 / n) + (s_Hyp1**2 / n))\n",
    "t_stat = numerator / denominator\n",
    "p_value = t.cdf(t_stat, df = n * 2 - 2)"
   ]
  },
  {
   "cell_type": "markdown",
   "id": "ef883a1f-41cb-4a54-8a5f-67d776fbfc0a",
   "metadata": {},
   "source": [
    "Let's see if we reject or not that this results were random with a 5% of certainty"
   ]
  },
  {
   "cell_type": "code",
   "execution_count": 161,
   "id": "7456eef0-23b1-4868-9bb3-52df2d3599d5",
   "metadata": {},
   "outputs": [
    {
     "name": "stdout",
     "output_type": "stream",
     "text": [
      "We do not reject H0, so we consider that this results can be random\n"
     ]
    }
   ],
   "source": [
    "if alpha < p_value:\n",
    "    print('We do not reject H0, so we consider that this results can be random')\n",
    "else:\n",
    "    print('We reject HO, so we consider that this results are not random')"
   ]
  },
  {
   "cell_type": "markdown",
   "id": "d6f3e099-c3aa-4d4b-917e-e4bbe49fa314",
   "metadata": {},
   "source": [
    "## Control vs Hyp_2"
   ]
  },
  {
   "cell_type": "markdown",
   "id": "37101f6d-7ebb-4bdb-8b33-ea87483d2172",
   "metadata": {},
   "source": [
    "H0: uControl = uHyp_2\n",
    "\n",
    "H1: uControl < uHyp_2"
   ]
  },
  {
   "cell_type": "code",
   "execution_count": 150,
   "id": "de991623-432a-485c-8448-31b45789aa22",
   "metadata": {},
   "outputs": [],
   "source": [
    "u_Control = (Control['converted'] == 1).mean()\n",
    "uHyp2 = (Hyp_2['converted'] == 1).mean()\n",
    "s_Control = (Control['converted'] == 1).std()\n",
    "s_Hyp2 = (Hyp_2['converted'] == 1).std()\n",
    "n = len(Control)"
   ]
  },
  {
   "cell_type": "code",
   "execution_count": 151,
   "id": "0114ab5e-4849-4704-a0d1-967a6fdca7f4",
   "metadata": {},
   "outputs": [],
   "source": [
    "numerator = u_Control - uHyp2\n",
    "denominator = np.sqrt((s_Control**2 / n) + (s_Hyp2**2 / n))\n",
    "t_stat = numerator / denominator\n",
    "p_value = t.cdf(t_stat, df = n * 2 - 2)"
   ]
  },
  {
   "cell_type": "code",
   "execution_count": 152,
   "id": "4f652c70-8533-415f-8fa0-381b38d0b9d5",
   "metadata": {},
   "outputs": [
    {
     "name": "stdout",
     "output_type": "stream",
     "text": [
      "We reject HO, so we consider that this results are not random\n"
     ]
    }
   ],
   "source": [
    "if alpha < p_value:\n",
    "    print('We do not reject H0, so we consider that this results could be random')\n",
    "else:\n",
    "    print('We reject HO, so we consider that this results are not random')"
   ]
  },
  {
   "cell_type": "markdown",
   "id": "95915a60-b7fb-4824-b0ed-02970cc09f9a",
   "metadata": {
    "tags": []
   },
   "source": [
    "## Control vs Hyp_3"
   ]
  },
  {
   "cell_type": "markdown",
   "id": "426792a4-5058-4e39-8c7b-a14561258714",
   "metadata": {},
   "source": [
    "H0: uControl = uHyp_2\n",
    "\n",
    "H1: uControl < uHyp_3"
   ]
  },
  {
   "cell_type": "code",
   "execution_count": 163,
   "id": "19654870-77bb-4989-bbb4-0a756944a166",
   "metadata": {},
   "outputs": [],
   "source": [
    "u_Control = (Control['converted'] == 1).mean()\n",
    "uHyp3 = (Hyp_3['converted'] == 1).mean()\n",
    "s_Control = (Control['converted'] == 1).std()\n",
    "s_Hyp3 = (Hyp_3['converted'] == 1).std()\n",
    "n = len(Control)"
   ]
  },
  {
   "cell_type": "code",
   "execution_count": 164,
   "id": "fce29d86-670f-47cb-afac-8323ce8068c2",
   "metadata": {},
   "outputs": [],
   "source": [
    "numerator = u_Control - uHyp3\n",
    "denominator = np.sqrt((s_Control**2 / n) + (s_Hyp3**2 / n))\n",
    "t_stat = numerator / denominator\n",
    "p_value = t.cdf(t_stat, df = n * 2 - 2)"
   ]
  },
  {
   "cell_type": "code",
   "execution_count": 165,
   "id": "6679d14f-a253-4c0a-ade7-f5b5005c0e4f",
   "metadata": {},
   "outputs": [
    {
     "name": "stdout",
     "output_type": "stream",
     "text": [
      "We do not reject H0, so we consider that this results could be random\n"
     ]
    }
   ],
   "source": [
    "if alpha < p_value:\n",
    "    print('We do not reject H0, so we consider that this results could be random')\n",
    "else:\n",
    "    print('We reject HO, so we consider that this results are not random')"
   ]
  },
  {
   "cell_type": "markdown",
   "id": "cc7477df-4f73-4537-83bf-3c0acf10c619",
   "metadata": {},
   "source": [
    "## Conclusion"
   ]
  },
  {
   "cell_type": "markdown",
   "id": "31281de1-202b-449a-a437-f8ed0522c08f",
   "metadata": {},
   "source": [
    "Looking to the rate of conversion, Hyp_2 would be the better One.\n",
    "\n",
    "After applying a T-Student Test, we are more certain thatr the results that we had with the Hyp_2 are not due to randomness, so  \n",
    "we should Treat the images but whe should not add new ones."
   ]
  }
 ],
 "metadata": {
  "kernelspec": {
   "display_name": "Python 3 (ipykernel)",
   "language": "python",
   "name": "python3"
  },
  "language_info": {
   "codemirror_mode": {
    "name": "ipython",
    "version": 3
   },
   "file_extension": ".py",
   "mimetype": "text/x-python",
   "name": "python",
   "nbconvert_exporter": "python",
   "pygments_lexer": "ipython3",
   "version": "3.8.12"
  }
 },
 "nbformat": 4,
 "nbformat_minor": 5
}
